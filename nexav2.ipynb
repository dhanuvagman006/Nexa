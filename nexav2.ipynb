{
  "nbformat": 4,
  "nbformat_minor": 0,
  "metadata": {
    "colab": {
      "provenance": [],
      "include_colab_link": true
    },
    "kernelspec": {
      "name": "python3",
      "display_name": "Python 3"
    },
    "language_info": {
      "name": "python"
    }
  },
  "cells": [
    {
      "cell_type": "markdown",
      "metadata": {
        "id": "view-in-github",
        "colab_type": "text"
      },
      "source": [
        "<a href=\"https://colab.research.google.com/github/dhanuvagman006/Nexa/blob/main/nexav2.ipynb\" target=\"_parent\"><img src=\"https://colab.research.google.com/assets/colab-badge.svg\" alt=\"Open In Colab\"/></a>"
      ]
    },
    {
      "cell_type": "code",
      "source": [
        "api_key = 'add api key here'"
      ],
      "metadata": {
        "id": "mk4zgpUU01gy"
      },
      "execution_count": null,
      "outputs": []
    },
    {
      "cell_type": "code",
      "execution_count": null,
      "metadata": {
        "id": "n7hbiXdR0xyA"
      },
      "outputs": [],
      "source": [
        "import json, requests\n",
        "from openai import OpenAI\n",
        "\n",
        "# You can use any model that supports tool calling\n",
        "MODEL = \"google/gemini-2.0-flash-001\"\n",
        "\n",
        "openai_client = OpenAI(\n",
        "    base_url=\"https://openrouter.ai/api/v1\",\n",
        "    api_key=api_key,\n",
        ")"
      ]
    },
    {
      "cell_type": "code",
      "source": [
        "events=[\"google developers meet 2025 on 26/05/2025\"]"
      ],
      "metadata": {
        "id": "L_62LyNv8aot"
      },
      "execution_count": null,
      "outputs": []
    },
    {
      "cell_type": "code",
      "source": [
        "def get_upcoming_events():\n",
        "  return events\n",
        "\n",
        "\n",
        "def add_upcomming_events(event_to_add):\n",
        "    events.append(event_to_add)\n",
        "    return \"Event added successfully\"\n",
        "\n",
        "def find_sub_domains(domain):\n",
        "  url = \"https://subdomain-finder5.p.rapidapi.com/subdomain-finder\"\n",
        "\n",
        "  querystring = {\"domain\":domain}\n",
        "\n",
        "  headers = {\n",
        "    \"x-rapidapi-key\": \"0f74f2e409msh0b29a2c79506d6bp1383b8jsn595e259130b4\",\n",
        "    \"x-rapidapi-host\": \"subdomain-finder5.p.rapidapi.com\"\n",
        "  }\n",
        "\n",
        "  response = requests.get(url, headers=headers, params=querystring)\n",
        "  if response.status_code == 200:\n",
        "      data = response.json()\n",
        "      subdomains = [entry['subdomain'] for entry in data.get('data', []) if 'subdomain' in entry]\n",
        "      return(subdomains)\n",
        "  else:\n",
        "      return(f\"Request failed with status code {response.status_code}\")"
      ],
      "metadata": {
        "id": "SYWCtznr1rKA"
      },
      "execution_count": null,
      "outputs": []
    },
    {
      "cell_type": "code",
      "source": [
        "get_upcoming_events()"
      ],
      "metadata": {
        "colab": {
          "base_uri": "https://localhost:8080/"
        },
        "id": "TJXetQvEAU5V",
        "outputId": "33e68fc2-7b9b-4033-ebb1-2169db811f22"
      },
      "execution_count": null,
      "outputs": [
        {
          "output_type": "execute_result",
          "data": {
            "text/plain": [
              "['google developers meet 2025 on 26/05/2025']"
            ]
          },
          "metadata": {},
          "execution_count": 14
        }
      ]
    },
    {
      "cell_type": "code",
      "source": [
        "tools = [\n",
        "    {\n",
        "        \"type\":\"function\",\n",
        "        \"function\":{\n",
        "            \"name\":\"get_upcoming_events\",\n",
        "            \"description\":\"Returns the upcomming events.\",\n",
        "            \"parameters\":{\n",
        "                \"type\":\"object\",\n",
        "                \"properties\":{\n",
        "                },\n",
        "                \"required\":[]\n",
        "            }\n",
        "        }\n",
        "    }\n",
        "]\n"
      ],
      "metadata": {
        "id": "v80LG0Wt2Tt1"
      },
      "execution_count": null,
      "outputs": []
    },
    {
      "cell_type": "code",
      "source": [
        "messages = [\n",
        "    {\"role\": \"system\", \"content\": \"You are a helpful assistant.\"},\n",
        "    {\"role\": \"user\", \"content\": \"List all the upcomming events\"}\n",
        "]\n",
        "\n",
        "# or use input():\n",
        "# messages=[\n",
        "#     {\"role\":\"system\",\"content\":\"You are a helpful robot\"},\n",
        "#     {\"role\":\"user\",\"content\":input(\"Enter your prompt here:\")}\n",
        "# ]\n",
        "\n"
      ],
      "metadata": {
        "id": "rMgZ3ndO2YKa"
      },
      "execution_count": null,
      "outputs": []
    },
    {
      "cell_type": "code",
      "source": [
        "response = openai_client.chat.completions.create(\n",
        "    model=MODEL,\n",
        "    messages=messages,\n",
        "    tools=tools,\n",
        "    tool_choice=\"auto\"  # LLM picks the right tool\n",
        ")\n",
        "\n",
        "tool_call = response.choices[0].message.tool_calls[0]\n",
        "tool_name = tool_call.function.name\n",
        "arguments = json.loads(tool_call.function.arguments)\n",
        "\n",
        "\n",
        "if tool_name ==\"get_upcoming_events\":\n",
        "    tool_result=str(get_upcoming_events())\n",
        "print(tool_name)\n",
        "\n",
        "follow_up_messages = messages + [\n",
        "    response.choices[0].message,  # Tool call message\n",
        "    {\n",
        "        \"role\": \"tool\",\n",
        "        \"tool_call_id\": tool_call.id,\n",
        "        \"name\": tool_name,\n",
        "        \"content\": tool_result\n",
        "    }\n",
        "]\n",
        "\n",
        "final_response = openai_client.chat.completions.create(\n",
        "    model=MODEL,\n",
        "    messages=follow_up_messages\n",
        ")\n",
        "\n",
        "print(final_response.choices[0].message.content)\n",
        "\n"
      ],
      "metadata": {
        "colab": {
          "base_uri": "https://localhost:8080/"
        },
        "id": "dp4kw7qF2bwo",
        "outputId": "8326d110-b110-4a32-c94b-d451c1eade05"
      },
      "execution_count": null,
      "outputs": [
        {
          "output_type": "stream",
          "name": "stdout",
          "text": [
            "get_upcoming_events\n",
            "OK. I see one upcoming event: google developers meet 2025 on 26/05/2025.\n",
            "\n"
          ]
        }
      ]
    },
    {
      "cell_type": "code",
      "source": [],
      "metadata": {
        "id": "Hf0iE8z7ARGH"
      },
      "execution_count": null,
      "outputs": []
    },
    {
      "cell_type": "code",
      "source": [
        "find_sub_domains(\"swizosoft.com\")"
      ],
      "metadata": {
        "colab": {
          "base_uri": "https://localhost:8080/"
        },
        "id": "DgIu4R2vEDYp",
        "outputId": "e443dff8-11a0-4a12-b203-4cccfe9ed3f1"
      },
      "execution_count": null,
      "outputs": [
        {
          "output_type": "stream",
          "name": "stdout",
          "text": [
            "{'info': {'scan_started': 'May 17 2025 16:33:48 (GMT)', 'scan_started_t': 1747492428, 'scan_finished': 'May 17 2025 16:33:58 (GMT)', 'scan_finished_t': 1747492438, 'found': 4, 'scanned_domain': 'swizosoft.com', 'scan_type': 'light'}, 'data': [{'subdomain': 'ftp.swizosoft.com', 'type': 'IP', 'dest': '89.117.157.252'}, {'subdomain': 'www.swizosoft.com', 'type': 'NAME', 'dest': 'www.swizosoft.com.cdn.hstgr.net'}, {'subdomain': 'www.swizosoft.com.cdn.hstgr.net', 'type': 'IP', 'dest': '92.113.23.61'}, {'subdomain': 'auth.swizosoft.com', 'type': 'IP', 'dest': '89.117.157.252'}], 'seconds': '9.603'}\n",
            "['ftp.swizosoft.com', 'www.swizosoft.com', 'www.swizosoft.com.cdn.hstgr.net', 'auth.swizosoft.com']\n"
          ]
        }
      ]
    },
    {
      "cell_type": "code",
      "source": [],
      "metadata": {
        "id": "DBs_cZpfE6Zb"
      },
      "execution_count": null,
      "outputs": []
    }
  ]
}
